{
 "cells": [
  {
   "cell_type": "markdown",
   "metadata": {},
   "source": [
    "### **1. Indicizzazione booleana**\n",
    "\n",
    "1. Creare un nuovo vettore con tutti i numeri primi tra 0 e 20. I numeri primi compresi tra 0 e 20 sono: **2, 3, 5, 7, 11, 13, 17, 19**.\n",
    "\n",
    "2. Utilizza un test logico (ad esempio `>`, `<`, `==`, `!=`) per **selezionare tutte le voci del vettore maggiori di 10**.\n",
    "\n",
    "3. Utilizza un test logico per selezionare **tutti i numeri primi pari** dalla lista.  \n"
   ]
  },
  {
   "cell_type": "code",
   "execution_count": 7,
   "metadata": {},
   "outputs": [
    {
     "data": {
      "text/plain": [
       "(array([11, 13, 17, 19]), array([2]))"
      ]
     },
     "execution_count": 7,
     "metadata": {},
     "output_type": "execute_result"
    }
   ],
   "source": [
    "import numpy as np\n",
    "primes = np.array([2,3,5,7,11,13,17,19])\n",
    "primes[primes > 10], primes[primes % 2 == 0]"
   ]
  },
  {
   "cell_type": "markdown",
   "metadata": {},
   "source": [
    "### **2.  Operazioni su array**\n",
    "Crea un array **a**, 2D (senza digitarlo esplicitamente), e genera due nuovi array **b**, contenente la sua 2ª e 4ª riga, e **c** contenente solo la 3ª.  Dividi ogni colonna dell'array a, elemento per elemento, con l'array c."
   ]
  },
  {
   "cell_type": "code",
   "execution_count": 23,
   "metadata": {},
   "outputs": [
    {
     "name": "stdout",
     "output_type": "stream",
     "text": [
      "[[0.78721011 0.80636715 0.30635392 0.33457536]\n",
      " [0.82674202 0.24299619 0.77829032 0.84345565]\n",
      " [0.00999005 0.36367173 0.31129821 0.90482922]\n",
      " [0.80223068 0.32041759 0.28591361 0.16751433]\n",
      " [0.05538018 0.75107917 0.36918946 0.36850656]]\n",
      "[[0.82674202 0.24299619 0.77829032 0.84345565]\n",
      " [0.80223068 0.32041759 0.28591361 0.16751433]]\n",
      "[0.00999005 0.36367173 0.31129821 0.90482922]\n",
      "[[78.79938207  2.217294    0.98411718  0.36976631]\n",
      " [82.75650872  0.66817455  2.50014389  0.93217109]\n",
      " [ 1.          1.          1.          1.        ]\n",
      " [80.30293433  0.88106267  0.91845569  0.18513364]\n",
      " [ 5.54353177  2.06526684  1.18596717  0.40726643]]\n"
     ]
    }
   ],
   "source": [
    "a = np.random.rand(5,4)\n",
    "b = a[1:4:2,:]\n",
    "c = a[2,:]\n",
    "print(a), print(b), print(c)\n",
    "print(a/c)\n"
   ]
  },
  {
   "cell_type": "markdown",
   "metadata": {},
   "source": [
    "### **3. Seleziona il numero più vicino a 0.5 in un array casuale**\n",
    "Genera un array 10 x 3 con numeri casuali nell'intervallo [0,1].\n",
    "Per ogni riga, seleziona il numero più vicino a 0.5. Per farlo usa il fancy indexing."
   ]
  },
  {
   "cell_type": "code",
   "execution_count": 31,
   "metadata": {},
   "outputs": [
    {
     "name": "stdout",
     "output_type": "stream",
     "text": [
      "[[0.62639687 0.84613288 0.55223381]\n",
      " [0.33933093 0.53665405 0.36352312]\n",
      " [0.24319765 0.5076627  0.72684419]\n",
      " [0.94877508 0.04579679 0.74285844]\n",
      " [0.41444491 0.80323921 0.89473691]\n",
      " [0.03284029 0.9058141  0.47437866]\n",
      " [0.40471041 0.51083676 0.26717968]\n",
      " [0.63384188 0.09732185 0.0639055 ]\n",
      " [0.28485531 0.81959837 0.81251267]\n",
      " [0.59853374 0.71005242 0.14775278]]\n",
      "[0.55223381 0.53665405 0.5076627  0.74285844 0.41444491 0.47437866\n",
      " 0.51083676 0.63384188 0.28485531 0.59853374]\n"
     ]
    }
   ],
   "source": [
    "es_3 = np.random.rand(10,3)\n",
    "print(es_3)\n",
    "righe = np.arange(10)\n",
    "colonne = np.abs(es_3 - 0.5).argmin(axis=1)\n",
    "result = es_3[righe,colonne]\n",
    "print(result)\n"
   ]
  },
  {
   "cell_type": "markdown",
   "metadata": {},
   "source": [
    "### **4. Analisi della Frequenza Cardiaca con NumPy**\n",
    "\n",
    "1. **Supponiamo che i seguenti valori rappresentino la tua frequenza cardiaca** registrata dal tuo Fitbit durante la giornata:  \n",
    "   `68, 65, 77, 110, 160, 161, 162, 161, 160, 161, 162, 163, 164, 163, 162, 100, 90, 97, 72, 60, 70`  \n",
    "   Inserisci questi valori in un array NumPy.\n",
    "\n",
    "2. **Trova la frequenza cardiaca minima** registrata durante la giornata.  \n",
    "   _(Questo valore rappresenta approssimativamente la tua frequenza cardiaca a riposo, un comune indicatore di salute.)_\n",
    "\n",
    "3. **Trova la frequenza cardiaca massima** registrata durante la giornata.  \n",
    "   _(Questo valore è un'indicazione dell'intensità dell'esercizio fisico.)_\n",
    "\n",
    "4. **Calcoliamo la percentuale di letture effettuate mentre stavi facendo esercizio fisico (frequenza cardiaca sopra a 120)**:  \n",
    "   - Crea un nuovo array che contiene `True` quando la frequenza cardiaca è **superiore a 120**, e `False` quando è **inferiore o uguale a 120**.\n",
    "   - Utilizza una funzione di sintesi per calcolare la percentuale di osservazioni in cui la tua frequenza cardiaca era sopra 120.\n"
   ]
  },
  {
   "cell_type": "code",
   "execution_count": 34,
   "metadata": {},
   "outputs": [
    {
     "name": "stdout",
     "output_type": "stream",
     "text": [
      "60\n",
      "164\n",
      "[False False False False  True  True  True  True  True  True  True  True\n",
      "  True  True  True False False False False False False]\n",
      "52.38095238095239\n"
     ]
    },
    {
     "data": {
      "text/plain": [
       "(None, None, None, None)"
      ]
     },
     "execution_count": 34,
     "metadata": {},
     "output_type": "execute_result"
    }
   ],
   "source": [
    "cardio_freq = np.array([68,65,77,110,160,161,162,161,160,161,162,163,164,163,162,100,90,97,72,60,70])\n",
    "min = np.min(cardio_freq)\n",
    "max = np.max(cardio_freq)\n",
    "high = cardio_freq > 120\n",
    "percentage = (np.sum(high) / high.size) * 100\n",
    "print(min), print(max), print(high), print(percentage)"
   ]
  },
  {
   "cell_type": "markdown",
   "metadata": {},
   "source": [
    "### **5. Manipolazione di vettori**\n",
    "\n",
    "1. Creare un vettore contenente i seguenti stipendi: **50.000, 105.250, 55.000, 89.000**.  \n",
    "Qual è il costo totale del personale (somma di tutti gli stipendi dell'azienda)?\n",
    "\n",
    "2. Supponiamo che il nostro malvagio CEO abbia deciso di darsi un aumento.  \n",
    "Modifica il vettore degli stipendi in modo che il CEO, la persona che guadagna **105.250 dollari**, riceva un aumento del **15%**.\n",
    "\n",
    "3. Il **115%** di **105.250 dollari** è **121.037,50 dollari**.  \n",
    "Questo valore è presente nel tuo array? Se no, riesci a capire il motivo?\n",
    "\n",
    "4. Ricrea il vettore e utilizza l'argomento **`dtype`** in modo che, quando il CEO riceve un aumento del **15%**, il suo stipendio finale sia esattamente **121.037,50 dollari**.\n",
    "\n",
    "5. Questo aumento ha infastidito l'impiegata con lo stipendio più basso (**50.000 dollari**), che ora pretende un aumento del **20%**.  \n",
    "Modifica il vettore per riflettere questo cambiamento.\n",
    "\n",
    "6. L'aumento dato al CEO e all'impiegata ha irritato gli altri due dipendenti, quindi ora devono ricevere un aumento del **10%**.  \n",
    "Modifica il vettore di conseguenza.\n",
    "\n",
    "7. Calcola il **costo totale del personale** dopo tutti gli aumenti.  \n",
    "Alla fine, quanto è costato all'azienda l'aumento di circa **16.000 dollari** del CEO?\n"
   ]
  },
  {
   "cell_type": "code",
   "execution_count": 43,
   "metadata": {},
   "outputs": [
    {
     "name": "stdout",
     "output_type": "stream",
     "text": [
      "[ 50000 121037  55000  89000]\n",
      "299250\n",
      "[ 60000.  121037.5  60500.   97900. ]\n",
      "339437.5\n",
      "40187.5\n"
     ]
    },
    {
     "data": {
      "text/plain": [
       "(None, None, None)"
      ]
     },
     "execution_count": 43,
     "metadata": {},
     "output_type": "execute_result"
    }
   ],
   "source": [
    "#1.\n",
    "salaries = np.array([50_000, 105_250, 55_000, 89_000])\n",
    "costo_pers = np.sum(salaries)\n",
    "#2.\n",
    "salaries[1] = (salaries[1] * 115) / 100\n",
    "print(salaries), print(costo_pers)\n",
    "#3. no perché sto lavorando con un vettore di interi\n",
    "#4. \n",
    "salaries2 = np.round(np.array([50_000, 105_250, 55_000, 89_000], np.dtype(np.float64)),3)\n",
    "salaries2[1] = (salaries2[1] * 115) / 100\n",
    "#5.\n",
    "salaries2[0] = (salaries2[0] * 120) / 100\n",
    "#6. \n",
    "salaries2[2:4] = (salaries2[2:4] * 110) / 100\n",
    "#7. \n",
    "costo_pers2 = np.sum(salaries2)\n",
    "differenza = costo_pers2 - costo_pers\n",
    "print(salaries2), print(costo_pers2), print(differenza)\n"
   ]
  },
  {
   "cell_type": "markdown",
   "metadata": {},
   "source": [
    "### **6. Valori di Co2**\n",
    "\n",
    "1. Carica tramite numpy il file generato e salvato a lezione sulle emissioni di CO2\n",
    "\n",
    "2. Calcola quanti valori ci CO2 sono sopra la soglia di 18  tonnellate per anno ed il loro valore medio\n",
    "\n",
    "3. Calcola la frazione totale di emissione sopra la soglia (somma totale sopra la soglia/somma totale)"
   ]
  },
  {
   "cell_type": "code",
   "execution_count": 50,
   "metadata": {},
   "outputs": [
    {
     "data": {
      "text/plain": [
       "(array([18.79, 18.91, 18.87, 19.35, 19.83, 18.03, 19.26, 18.49, 18.92,\n",
       "        19.69, 19.36, 19.24, 19.23, 18.46, 18.37]),\n",
       " np.float64(18.986666666666668),\n",
       " np.float64(0.1259380126733969))"
      ]
     },
     "execution_count": 50,
     "metadata": {},
     "output_type": "execute_result"
    }
   ],
   "source": [
    "emissions = np.loadtxt(\"C:/Users/franc/OneDrive/Git/ProgrammingLab/Lezione 2/emissioni.txt\", dtype=float)\n",
    "higher = emissions[emissions>18]\n",
    "mean = np.mean(higher)\n",
    "fraz_tot = np.sum(higher) / np.sum(emissions)\n",
    "higher, mean, fraz_tot"
   ]
  },
  {
   "cell_type": "markdown",
   "metadata": {},
   "source": [
    "### **7. Analisi di una matrice**\n",
    "Data la matrice survey con età, reddito e anni di istruzione\n",
    "\n",
    "survey_matrix = np.array([\n",
    "    [25, 40000, 10],\n",
    "    [32, 52000, 12],\n",
    "    [40, 63000, 14],\n",
    "    [29, 47000, 11],\n",
    "    [35, 58000, 13]\n",
    "])\n",
    "\n",
    "\n",
    "1. Seleziona dalla matrice solo gli intervistati con **almeno 12 anni di istruzione** utilizzando un test logico.\n",
    "\n",
    "2. In un'unica riga di codice, seleziona i **redditi** degli intervistati con **almeno 12 anni di istruzione**.\n",
    "\n",
    "3. In un'unica riga di codice, calcola il **reddito medio** degli intervistati con **almeno 12 anni di istruzione**.\n"
   ]
  },
  {
   "cell_type": "code",
   "execution_count": 53,
   "metadata": {},
   "outputs": [
    {
     "data": {
      "text/plain": [
       "(array([[   32, 52000,    12],\n",
       "        [   40, 63000,    14],\n",
       "        [   35, 58000,    13]]),\n",
       " array([52000, 63000, 58000]),\n",
       " np.float64(57666.666666666664))"
      ]
     },
     "execution_count": 53,
     "metadata": {},
     "output_type": "execute_result"
    }
   ],
   "source": [
    "survey_matrix = np.array([[25, 40000, 10],[32, 52000, 12],[40, 63000, 14],[29, 47000, 11],[35, 58000, 13]])\n",
    "atleast12 = survey_matrix[survey_matrix[:,2] >= 12]\n",
    "redditi = atleast12[:,1]\n",
    "reddito_medio = np.mean(redditi)\n",
    "atleast12, redditi, reddito_medio"
   ]
  },
  {
   "cell_type": "markdown",
   "metadata": {},
   "source": []
  },
  {
   "cell_type": "markdown",
   "metadata": {},
   "source": [
    "### **8. Rimpiazzare gli outliers**\n",
    "\n",
    "Vediamo se possiamo ripulire alcuni dati mancanti. Immagina di essere il responsabile dei registri di un comune locale con **500 cittadini** di **55 anni e oltre**.  \n",
    "\n",
    "La città è famosa per la sua longevità e un team di ricercatori ti ha chiesto di identificare **il cittadino più anziano**.  \n",
    "\n",
    "Il problema è che, occasionalmente, nei registri si verificano errori e in quei casi viene inserita l'età **999** invece dell'età corretta.  \n",
    "\n",
    "Rimuovi i dati errati dall'array e determina l'età del cittadino più anziano.\n"
   ]
  },
  {
   "cell_type": "code",
   "execution_count": null,
   "metadata": {},
   "outputs": [
    {
     "name": "stdout",
     "output_type": "stream",
     "text": [
      "112.0\n"
     ]
    }
   ],
   "source": [
    "ages = np.array([92, 108, 75, 63, 62, 66, 90, 98, 97, 92, 60, 107, 90, 71, 97, 86, 55, 55,\n",
    "                 98, 57, 96, 104, 96, 94, 72, 98, 111, 98, 89, 69, 77, 92, 85, 101, 93, 100,\n",
    "                 90, 101, 96, 98, 999, 87, 106, 86, 108, 55, 67, 65, 68, 59, 67, 72, 57, 79,\n",
    "                 95, 67, 86, 70, 91, 111, 67, 75, 59, 88, 90, 99, 94, 65, 111, 103, 100, 70,\n",
    "                 63, 65, 100, 110, 999, 70, 57, 75, 56, 104, 111, 90, 74, 100, 90, 86, 88, 99,\n",
    "                 58, 103, 88, 103, 64, 96, 105, 89, 83, 65, 100, 62, 73, 105, 83, 105, 58, 96,\n",
    "                 77, 74, 95, 109, 91, 101, 91, 999, 63, 111, 97, 108, 75, 77, 73, 58, 94, 83,\n",
    "                 90, 61, 110, 107, 105, 85, 64, 66, 71, 107, 105, 72, 78, 66, 100, 102, 72, 999,\n",
    "                 74, 68, 73, 72, 90, 93, 99, 55, 92, 83, 58, 71, 89, 75, 98, 87, 999, 78,\n",
    "                 97, 71, 106, 83, 58, 81, 100, 72, 93, 70, 65, 60, 95, 107, 94, 77, 87, 90,\n",
    "                 82, 56, 99, 107, 86, 56, 73, 96, 64, 69, 64, 92, 57, 104, 110, 69, 66, 68,\n",
    "                 84, 89, 72, 80, 55, 75, 87, 57, 106, 69, 66, 62, 102, 76, 111, 999, 96, 83,\n",
    "                 84, 61, 102, 63, 107, 63, 76, 58, 83, 58, 61, 71, 77, 90, 74, 100, 103, 74,\n",
    "                 92, 102, 63, 87, 93, 61, 63, 86, 74, 98, 64, 999, 78, 95, 84, 81, 107, 85,\n",
    "                 79, 82, 89, 65, 107, 57, 74, 77, 97, 92, 58, 96, 105, 60, 55, 74, 57, 80,\n",
    "                 62, 85, 87, 62, 999, 71, 74, 70, 97, 59, 82, 96, 105, 70, 89, 105, 60, 70,\n",
    "                 87, 999, 64, 108, 107, 104, 85, 95, 108, 74, 64, 97, 89, 88, 79, 67, 81, 92,\n",
    "                 63, 80, 76, 94, 104, 67, 73, 61, 99, 96, 68, 90, 86, 79, 85, 111, 75, 98,\n",
    "                 81, 111, 108, 103, 85, 72, 108, 102, 999, 64, 107, 112, 66, 93, 89, 78, 66, 92,\n",
    "                 63, 101, 92, 64, 72, 56, 71, 64, 87, 78, 107, 85, 109, 95, 69, 111, 64, 72,\n",
    "                 55, 66, 99, 57, 78, 55, 58, 90, 88, 71, 90, 103, 92, 98, 67, 97, 77, 68,\n",
    "                 77, 59, 78, 69, 77, 81, 61, 99, 999, 85, 78, 104, 97, 95, 74, 70, 69, 83,\n",
    "                 68, 68, 77, 60, 85, 82, 93, 66, 71, 62, 64, 107, 999, 65, 78, 59, 83, 67,\n",
    "                 108,  58,  95, 106,  83,  79,  67,  59,  96,  90,  55,  55,  96, 109,  82,  55, 101,  58,\n",
    "                 97, 77, 60, 81, 999, 81, 75, 100, 66, 65, 105, 94, 101, 56, 999, 59, 105, 59,\n",
    "                 93, 56, 104, 74, 81, 62, 76, 65, 107, 60, 107, 98, 77, 86, 83, 104, 74, 69,\n",
    "                 97, 80, 91, 56, 108, 87, 65, 91, 93, 60, 91, 110, 107, 88, 96, 70, 60, 99,\n",
    "                 66, 91, 107, 65, 81, 109, 84, 106, 80, 92, 78, 84, 91, 59])\n",
    "\n",
    "ages = ages.astype(float) #converto a float perché nan è un valore di tipo float\n",
    "ages[ages == 999] = np.nan\n",
    "oldest = np.nanmax(ages)\n",
    "print(oldest)"
   ]
  },
  {
   "cell_type": "markdown",
   "metadata": {},
   "source": [
    "### 9.**Generazione random di storie**\n",
    "\n",
    "Usando la lista qui sotto, estrai casualmente **5 parole con reinserimento** (cioè, i duplicati sono ammessi).  \n",
    "\n",
    "Successivamente, inserisci casualmente queste parole negli spazi vuoti (indicati con \"_\") nella seguente frase:\n",
    "\n",
    "*\"In epoche passate, viveva una donna saggia che era molto orgogliosa dell'antico __ che proteggeva. Quando un anziano del villaggio venne a chiederle consiglio su come garantire al meglio un raccolto abbondante e le offrì il __ come dono, i suoi occhi si spalancarono e lei esclamò una sola parola, \"__\".  \n",
    "Radunò il villaggio e, per i successivi 100 giorni, su sua richiesta, gli abitanti cercarono nella foresta un __.  \n",
    "Nel 101° giorno, il bambino più giovane del villaggio trovò ciò che stavano cercando e tutti corsero dalla donna saggia per donarglielo.  \n",
    "Con un sorriso da un orecchio all’altro, e cantando canti di festa, la donna saggia guardò i suoi compaesani e disse: \"Ora è giunto il tempo del banchetto - nessuno rimarrà mai più senza _!\" Ci fu grande gioia e celebrazione.\"*\n"
   ]
  },
  {
   "cell_type": "code",
   "execution_count": 70,
   "metadata": {},
   "outputs": [
    {
     "data": {
      "text/plain": [
       "\"In epoche passate, viveva una donna saggia che era molto orgogliosa dell'antico IGNORANZA che proteggeva. Quando un anziano del villaggio venne a chiederle consiglio su come garantire al meglio un raccolto abbondante e le offrì il APPLICAZIONE come dono, i suoi occhi si spalancarono e lei esclamò una sola parola, ATTEGGIAMENTO.  Radunò il villaggio e, per i successivi 100 giorni, su sua richiesta, gli abitanti cercarono nella foresta un AGENTE DI POLIZIA.  Nel 101° giorno, il bambino più giovane del villaggio trovò ciò che stavano cercando e tutti corsero dalla donna saggia per donarglielo.  Con un sorriso da un orecchio all’altro, e cantando canti di festa, la donna saggia guardò i suoi compaesani e disse: Ora è giunto il tempo del banchetto - nessuno rimarrà mai più senza ALPACA! Ci fu grande gioia e celebrazione.\""
      ]
     },
     "execution_count": 70,
     "metadata": {},
     "output_type": "execute_result"
    }
   ],
   "source": [
    "lista_parole = [\n",
    "    'INSEDIAMENTO', 'SEPARAZIONE', 'DIFFERENZA', 'APPLICAZIONE', 'ATTEGGIAMENTO', 'VERDURA', 'IMPERO', 'RICEVIMENTO',\n",
    "    'IGNORANZA', 'BIOGRAFIA', 'VISIONE', 'AGENTE DI POLIZIA', 'PROVA', 'PRESTAZIONE', 'PRESENTAZIONE', 'PARENTE',\n",
    "    'GIUSTIFICAZIONE', 'FILOSOFIA', 'DIREZIONE', 'BENEFICIARIO', 'BATTERIA', 'CERIMONIA', 'AGONIA', 'RECUPERO',\n",
    "    'ALFABETIZZAZIONE', 'CONSEGNA', 'SERBATOIO', 'VOLONTARIO', 'DEPOSITO', 'BIRILLO DA BOWLING', 'NEMICO', 'ANNUNCIO',\n",
    "    'CARAMELLA ZUCCHERATA', 'FULMINE', 'PALLONCINO', 'COPERTA', 'SCOPERTA', 'PENALITÀ', 'GENERALE', 'ALPACA',\n",
    "    'VANTAGGIO', 'HOT DOG', 'ABITO', 'MATEMATICA', 'VARIANTE'\n",
    "]\n",
    "\n",
    "frase = (\"In epoche passate, viveva una donna saggia che era molto orgogliosa dell'antico __ che proteggeva. Quando un anziano del villaggio venne a chiederle consiglio su come garantire al meglio un raccolto abbondante e le offrì il __ come dono, i suoi occhi si spalancarono e lei esclamò una sola parola, __.  \"\n",
    "\"Radunò il villaggio e, per i successivi 100 giorni, su sua richiesta, gli abitanti cercarono nella foresta un __.  Nel 101° giorno, il bambino più giovane del villaggio trovò ciò che stavano cercando e tutti corsero dalla donna saggia per donarglielo.  \"\n",
    "\"Con un sorriso da un orecchio all’altro, e cantando canti di festa, la donna saggia guardò i suoi compaesani e disse: Ora è giunto il tempo del banchetto - nessuno rimarrà mai più senza __! Ci fu grande gioia e celebrazione.\")\n",
    "extracted = np.random.choice(lista_parole, size=5, replace=True)\n",
    "filled_statement = frase.replace(\"__\", \"{}\", 5).format(*extracted)\n",
    "filled_statement"
   ]
  },
  {
   "cell_type": "markdown",
   "metadata": {},
   "source": [
    "Esempio di output\n",
    "\n",
    "\n",
    "\"In epoche passate, viveva una donna saggia che era molto orgogliosa dell'antico APPLICAZIONE che proteggeva. \n",
    "Quando un anziano del villaggio venne a chiederle consiglio su come garantire al meglio un raccolto abbondante \n",
    "e le offrì il DEPOSITO come dono, i suoi occhi si spalancarono e lei esclamò una sola parola, \"PRESTAZIONE\".  \n",
    "\n",
    "Radunò il villaggio e, per i successivi 100 giorni, su sua richiesta, gli abitanti cercarono nella foresta un BIRILLO DA BOWLING. \n",
    "Nel 101° giorno, il bambino più giovane del villaggio trovò ciò che stavano cercando e tutti corsero dalla donna saggia per donarglielo. \n",
    "Con un sorriso da un orecchio all’altro, e cantando canti di festa, la donna saggia guardò i suoi compaesani e disse: \n",
    "\"Ora è giunto il tempo del banchetto - nessuno rimarrà mai più senza GIUSTIFICAZIONE!\"  \n",
    "\n",
    "Ci fu grande gioia e celebrazione.\""
   ]
  }
 ],
 "metadata": {
  "kernelspec": {
   "display_name": "Python 3",
   "language": "python",
   "name": "python3"
  },
  "language_info": {
   "codemirror_mode": {
    "name": "ipython",
    "version": 3
   },
   "file_extension": ".py",
   "mimetype": "text/x-python",
   "name": "python",
   "nbconvert_exporter": "python",
   "pygments_lexer": "ipython3",
   "version": "3.12.7"
  }
 },
 "nbformat": 4,
 "nbformat_minor": 2
}
